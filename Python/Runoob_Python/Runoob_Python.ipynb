{
 "cells": [
  {
   "cell_type": "code",
   "execution_count": 2,
   "metadata": {
    "collapsed": true
   },
   "outputs": [
    {
     "data": {
      "text/plain": "['False',\n 'None',\n 'True',\n 'and',\n 'as',\n 'assert',\n 'async',\n 'await',\n 'break',\n 'class',\n 'continue',\n 'def',\n 'del',\n 'elif',\n 'else',\n 'except',\n 'finally',\n 'for',\n 'from',\n 'global',\n 'if',\n 'import',\n 'in',\n 'is',\n 'lambda',\n 'nonlocal',\n 'not',\n 'or',\n 'pass',\n 'raise',\n 'return',\n 'try',\n 'while',\n 'with',\n 'yield']"
     },
     "execution_count": 2,
     "metadata": {},
     "output_type": "execute_result"
    }
   ],
   "source": [
    "import keyword\n",
    "keyword.kwlist"
   ]
  },
  {
   "cell_type": "code",
   "execution_count": 5,
   "outputs": [
    {
     "data": {
      "text/plain": "'this is a test sentence'"
     },
     "execution_count": 5,
     "metadata": {},
     "output_type": "execute_result"
    }
   ],
   "source": [
    "input(\"\\n\\n按下enter 键后退出\")"
   ],
   "metadata": {
    "collapsed": false,
    "pycharm": {
     "name": "#%%\n"
    }
   }
  },
  {
   "cell_type": "code",
   "execution_count": 6,
   "outputs": [
    {
     "name": "stdout",
     "output_type": "stream",
     "text": [
      "runboob\n"
     ]
    }
   ],
   "source": [
    "import sys\n",
    "x = 'runboob'\n",
    "sys.stdout.write(x + '\\n')"
   ],
   "metadata": {
    "collapsed": false,
    "pycharm": {
     "name": "#%%\n"
    }
   }
  },
  {
   "cell_type": "code",
   "execution_count": 7,
   "outputs": [
    {
     "name": "stdout",
     "output_type": "stream",
     "text": [
      "test\n",
      "hello\n"
     ]
    }
   ],
   "source": [
    "print(\"test\\nhello\")"
   ],
   "metadata": {
    "collapsed": false,
    "pycharm": {
     "name": "#%%\n"
    }
   }
  },
  {
   "cell_type": "code",
   "execution_count": 8,
   "outputs": [
    {
     "name": "stdout",
     "output_type": "stream",
     "text": [
      "['D:\\\\code\\\\study\\\\Python\\\\Runoob_Python', 'D:\\\\code\\\\study', 'D:\\\\code\\\\study\\\\ML\\\\DL\\\\DL_Book1\\\\【源代码】深度学习入门：基于Python的理论与实现\\\\【源代码】深度学习入门：基于Python的理论与实现\\\\dataset', 'D:\\\\code\\\\study\\\\ML\\\\DL\\\\minist', 'F:\\\\anaconda\\\\envs\\\\imgProcessing\\\\python37.zip', 'F:\\\\anaconda\\\\envs\\\\imgProcessing\\\\DLLs', 'F:\\\\anaconda\\\\envs\\\\imgProcessing\\\\lib', 'F:\\\\anaconda\\\\envs\\\\imgProcessing', '', 'C:\\\\Users\\\\11966\\\\AppData\\\\Roaming\\\\Python\\\\Python37\\\\site-packages', 'F:\\\\anaconda\\\\envs\\\\imgProcessing\\\\lib\\\\site-packages', 'F:\\\\anaconda\\\\envs\\\\imgProcessing\\\\lib\\\\site-packages\\\\win32', 'F:\\\\anaconda\\\\envs\\\\imgProcessing\\\\lib\\\\site-packages\\\\win32\\\\lib', 'F:\\\\anaconda\\\\envs\\\\imgProcessing\\\\lib\\\\site-packages\\\\Pythonwin', 'F:\\\\anaconda\\\\envs\\\\imgProcessing\\\\lib\\\\site-packages\\\\IPython\\\\extensions', 'C:\\\\Users\\\\11966\\\\.ipython', 'F:\\\\PyCharm 2020.2.2\\\\plugins\\\\python\\\\helpers\\\\pydev', 'F:\\\\PyCharm 2020.2.2\\\\plugins\\\\python\\\\helpers-pro\\\\jupyter_debug']\n"
     ]
    }
   ],
   "source": [
    "print(sys.path)"
   ],
   "metadata": {
    "collapsed": false,
    "pycharm": {
     "name": "#%%\n"
    }
   }
  },
  {
   "cell_type": "code",
   "execution_count": 13,
   "outputs": [
    {
     "name": "stdout",
     "output_type": "stream",
     "text": [
      "runoob like I\n"
     ]
    }
   ],
   "source": [
    "def reverseWords(input):\n",
    "    inputWords = input.split(\" \")\n",
    "    inputWords = inputWords[-1::-1]\n",
    "    output = ' '.join(inputWords)\n",
    "    return output\n",
    "\n",
    "input = \"I like runoob\"\n",
    "rw = reverseWords(input)\n",
    "print(rw)\n"
   ],
   "metadata": {
    "collapsed": false,
    "pycharm": {
     "name": "#%%\n"
    }
   }
  },
  {
   "cell_type": "code",
   "execution_count": 394,
   "outputs": [
    {
     "data": {
      "text/plain": "38"
     },
     "execution_count": 394,
     "metadata": {},
     "output_type": "execute_result"
    }
   ],
   "source": [
    "import random\n",
    "random.choice(range(100))\n"
   ],
   "metadata": {
    "collapsed": false,
    "pycharm": {
     "name": "#%%\n"
    }
   }
  },
  {
   "cell_type": "code",
   "execution_count": 395,
   "outputs": [],
   "source": [
    "a, b = 0, 1\n",
    "while b < 0:\n",
    "    print(b)\n",
    "    a, b = b, a+b\n"
   ],
   "metadata": {
    "collapsed": false,
    "pycharm": {
     "name": "#%%\n"
    }
   }
  },
  {
   "cell_type": "code",
   "execution_count": 4,
   "outputs": [
    {
     "name": "stdout",
     "output_type": "stream",
     "text": [
      "100 5050\n"
     ]
    }
   ],
   "source": [
    "n = 100\n",
    "\n",
    "sum = 0\n",
    "counter = 1\n",
    "while counter <= n:\n",
    "    sum = sum + counter\n",
    "    counter += 1\n",
    "print(n, sum)"
   ],
   "metadata": {
    "collapsed": false,
    "pycharm": {
     "name": "#%%\n"
    }
   }
  },
  {
   "cell_type": "code",
   "execution_count": 1,
   "outputs": [
    {
     "ename": "ValueError",
     "evalue": "invalid literal for int() with base 10: ''",
     "output_type": "error",
     "traceback": [
      "\u001B[1;31m---------------------------------------------------------------------------\u001B[0m",
      "\u001B[1;31mValueError\u001B[0m                                Traceback (most recent call last)",
      "\u001B[1;32m<ipython-input-1-6ea838b03fa8>\u001B[0m in \u001B[0;36m<module>\u001B[1;34m\u001B[0m\n\u001B[0;32m      1\u001B[0m \u001B[0mvar\u001B[0m \u001B[1;33m=\u001B[0m \u001B[1;36m1\u001B[0m\u001B[1;33m\u001B[0m\u001B[1;33m\u001B[0m\u001B[0m\n\u001B[0;32m      2\u001B[0m \u001B[1;32mwhile\u001B[0m \u001B[0mvar\u001B[0m \u001B[1;33m==\u001B[0m \u001B[1;36m1\u001B[0m\u001B[1;33m:\u001B[0m\u001B[1;33m\u001B[0m\u001B[1;33m\u001B[0m\u001B[0m\n\u001B[1;32m----> 3\u001B[1;33m     \u001B[0mnum\u001B[0m \u001B[1;33m=\u001B[0m \u001B[0mint\u001B[0m\u001B[1;33m(\u001B[0m\u001B[0minput\u001B[0m\u001B[1;33m(\u001B[0m\u001B[1;34m\"请输入一个数字\"\u001B[0m\u001B[1;33m)\u001B[0m\u001B[1;33m)\u001B[0m\u001B[1;33m\u001B[0m\u001B[1;33m\u001B[0m\u001B[0m\n\u001B[0m\u001B[0;32m      4\u001B[0m     \u001B[0mprint\u001B[0m\u001B[1;33m(\u001B[0m\u001B[1;34m\"你输入的数字是： \"\u001B[0m\u001B[1;33m,\u001B[0m \u001B[0mnum\u001B[0m\u001B[1;33m)\u001B[0m\u001B[1;33m\u001B[0m\u001B[1;33m\u001B[0m\u001B[0m\n\u001B[0;32m      5\u001B[0m \u001B[1;33m\u001B[0m\u001B[0m\n",
      "\u001B[1;31mValueError\u001B[0m: invalid literal for int() with base 10: ''"
     ]
    }
   ],
   "source": [
    "var = 1\n",
    "while var == 1:\n",
    "    num = int(input(\"请输入一个数字\"))\n",
    "    print(\"你输入的数字是： \", num)\n"
   ],
   "metadata": {
    "collapsed": false,
    "pycharm": {
     "name": "#%%\n"
    }
   }
  },
  {
   "cell_type": "code",
   "execution_count": 3,
   "outputs": [
    {
     "name": "stdout",
     "output_type": "stream",
     "text": [
      "c\n",
      "c++\n",
      "Perl\n",
      "Python\n"
     ]
    }
   ],
   "source": [
    "languages = [\"c\", \"c++\", \"Perl\", \"Python\"]\n",
    "\n",
    "for x in languages:\n",
    "    print(x)"
   ],
   "metadata": {
    "collapsed": false,
    "pycharm": {
     "name": "#%%\n"
    }
   }
  },
  {
   "cell_type": "code",
   "execution_count": 5,
   "outputs": [
    {
     "name": "stdout",
     "output_type": "stream",
     "text": [
      "0\n",
      "1\n",
      "2\n",
      "3\n",
      "4\n"
     ]
    }
   ],
   "source": [
    "for i in range(5):\n",
    "    print(i)"
   ],
   "metadata": {
    "collapsed": false,
    "pycharm": {
     "name": "#%%\n"
    }
   }
  },
  {
   "cell_type": "code",
   "execution_count": 10,
   "outputs": [
    {
     "name": "stdout",
     "output_type": "stream",
     "text": [
      "1\n",
      "31\n",
      "61\n",
      "91\n"
     ]
    }
   ],
   "source": [
    "for i in range(1, 100, 30):\n",
    "    print(i)"
   ],
   "metadata": {
    "collapsed": false,
    "pycharm": {
     "name": "#%%\n"
    }
   }
  },
  {
   "cell_type": "code",
   "execution_count": 14,
   "outputs": [
    {
     "name": "stdout",
     "output_type": "stream",
     "text": [
      "4\n",
      "3\n",
      "1\n",
      "0\n",
      "循环结束\n"
     ]
    }
   ],
   "source": [
    "n = 5\n",
    "while n > 0:\n",
    "    n -= 1\n",
    "    if n == 2:\n",
    "        continue\n",
    "    print(n)\n",
    "print(\"循环结束\")"
   ],
   "metadata": {
    "collapsed": false,
    "pycharm": {
     "name": "#%%\n"
    }
   }
  },
  {
   "cell_type": "code",
   "execution_count": 15,
   "outputs": [
    {
     "name": "stdout",
     "output_type": "stream",
     "text": [
      "当前字母为：  R\n",
      "当前字母为：  u\n",
      "当前字母为：  n\n",
      "当前字母为：  o\n",
      "当前字母为：  o\n"
     ]
    }
   ],
   "source": [
    "for letter in 'Runoob':\n",
    "    if letter == 'b':\n",
    "        break\n",
    "    print('当前字母为： ', letter)"
   ],
   "metadata": {
    "collapsed": false,
    "pycharm": {
     "name": "#%%\n"
    }
   }
  },
  {
   "cell_type": "code",
   "execution_count": 16,
   "outputs": [
    {
     "name": "stdout",
     "output_type": "stream",
     "text": [
      "当前变量值为： 10\n",
      "当前变量值为： 9\n",
      "当前变量值为： 8\n",
      "当前变量值为： 7\n",
      "当前变量值为： 6\n",
      "当前变量值为： 5\n",
      "当前变量值为： 4\n",
      "当前变量值为： 3\n",
      "当前变量值为： 2\n",
      "当前变量值为： 1\n"
     ]
    }
   ],
   "source": [
    "var = 10\n",
    "while var > 0:\n",
    "    print('当前变量值为：', var)\n",
    "    var = var - 1"
   ],
   "metadata": {
    "collapsed": false,
    "pycharm": {
     "name": "#%%\n"
    }
   }
  },
  {
   "cell_type": "code",
   "execution_count": 18,
   "outputs": [
    {
     "name": "stdout",
     "output_type": "stream",
     "text": [
      "2 是质数\n",
      "3 是质数\n",
      "4 等于 2 * 2\n",
      "5 是质数\n",
      "6 等于 2 * 3\n",
      "7 是质数\n",
      "8 等于 2 * 4\n",
      "9 等于 3 * 3\n"
     ]
    }
   ],
   "source": [
    "for n in range(2, 10):\n",
    "    for x in range(2 , n):\n",
    "        if n % x == 0:\n",
    "            print(n, '等于', x, '*', n//x)\n",
    "            break\n",
    "    else:\n",
    "        print(n, '是质数')"
   ],
   "metadata": {
    "collapsed": false,
    "pycharm": {
     "name": "#%%\n"
    }
   }
  },
  {
   "cell_type": "code",
   "execution_count": 4,
   "outputs": [
    {
     "name": "stdout",
     "output_type": "stream",
     "text": [
      "当前字母： l\n",
      "当前字母： i\n",
      "当前字母： j\n",
      "当前字母： i\n",
      "当前字母： t\n",
      "当前字母： a\n",
      "执行pass块\n",
      "当前字母： o\n",
      "当前字母：  \n",
      "当前字母： t\n",
      "当前字母： e\n",
      "当前字母： s\n",
      "当前字母： t\n",
      "Done\n"
     ]
    }
   ],
   "source": [
    "for letter in 'lijitao test':\n",
    "    if letter == 'o':\n",
    "        pass\n",
    "        print('执行pass块')\n",
    "    print('当前字母：', letter)\n",
    "\n",
    "print('Done')\n"
   ],
   "metadata": {
    "collapsed": false,
    "pycharm": {
     "name": "#%%\n"
    }
   }
  },
  {
   "cell_type": "code",
   "execution_count": 8,
   "outputs": [
    {
     "name": "stdout",
     "output_type": "stream",
     "text": [
      "1\n",
      "2\n",
      "3\n",
      "4\n"
     ]
    }
   ],
   "source": [
    "list = [1,2,3,4]\n",
    "it = iter(list)\n",
    "print(next(it))\n",
    "print(next(it))\n",
    "print(next(it))\n",
    "print(next(it))"
   ],
   "metadata": {
    "collapsed": false,
    "pycharm": {
     "name": "#%%\n"
    }
   }
  },
  {
   "cell_type": "code",
   "execution_count": 25,
   "outputs": [
    {
     "name": "stdout",
     "output_type": "stream",
     "text": [
      "1 2 3 4 "
     ]
    }
   ],
   "source": [
    "list = [1,2,3,4]\n",
    "it = iter(list)\n",
    "for x in it:\n",
    "    print(x, end=\" \")"
   ],
   "metadata": {
    "collapsed": false,
    "pycharm": {
     "name": "#%%\n"
    }
   }
  },
  {
   "cell_type": "code",
   "execution_count": 30,
   "outputs": [
    {
     "name": "stderr",
     "output_type": "stream",
     "text": [
      "ERROR:root:Internal Python error in the inspect module.\n",
      "Below is the traceback from this internal error.\n",
      "\n"
     ]
    },
    {
     "name": "stdout",
     "output_type": "stream",
     "text": [
      "1\n",
      "2\n",
      "3\n",
      "4\n",
      "Traceback (most recent call last):\n",
      "  File \"<ipython-input-30-08acf072f749>\", line 8, in <module>\n",
      "    print(next(it))\n",
      "StopIteration\n",
      "\n",
      "During handling of the above exception, another exception occurred:\n",
      "\n",
      "Traceback (most recent call last):\n",
      "  File \"F:\\anaconda\\envs\\imgProcessing\\lib\\site-packages\\IPython\\core\\interactiveshell.py\", line 3417, in run_code\n",
      "    exec(code_obj, self.user_global_ns, self.user_ns)\n",
      "  File \"<ipython-input-30-08acf072f749>\", line 10, in <module>\n",
      "    sys.exit()\n",
      "SystemExit\n",
      "\n",
      "During handling of the above exception, another exception occurred:\n",
      "\n",
      "Traceback (most recent call last):\n",
      "  File \"F:\\anaconda\\envs\\imgProcessing\\lib\\site-packages\\IPython\\core\\ultratb.py\", line 1169, in get_records\n",
      "    return _fixed_getinnerframes(etb, number_of_lines_of_context, tb_offset)\n",
      "  File \"F:\\anaconda\\envs\\imgProcessing\\lib\\site-packages\\IPython\\core\\ultratb.py\", line 316, in wrapped\n",
      "    return f(*args, **kwargs)\n",
      "  File \"F:\\anaconda\\envs\\imgProcessing\\lib\\site-packages\\IPython\\core\\ultratb.py\", line 350, in _fixed_getinnerframes\n",
      "    records = fix_frame_records_filenames(inspect.getinnerframes(etb, context))\n",
      "  File \"F:\\anaconda\\envs\\imgProcessing\\lib\\inspect.py\", line 1502, in getinnerframes\n",
      "    frameinfo = (tb.tb_frame,) + getframeinfo(tb, context)\n",
      "AttributeError: 'tuple' object has no attribute 'tb_frame'\n"
     ]
    },
    {
     "ename": "TypeError",
     "evalue": "object of type 'NoneType' has no len()",
     "output_type": "error",
     "traceback": [
      "\u001B[1;31m---------------------------------------------------------------------------\u001B[0m",
      "\u001B[1;31mStopIteration\u001B[0m                             Traceback (most recent call last)",
      "\u001B[1;32m<ipython-input-30-08acf072f749>\u001B[0m in \u001B[0;36m<module>\u001B[1;34m\u001B[0m\n\u001B[0;32m      7\u001B[0m     \u001B[1;32mtry\u001B[0m\u001B[1;33m:\u001B[0m\u001B[1;33m\u001B[0m\u001B[1;33m\u001B[0m\u001B[0m\n\u001B[1;32m----> 8\u001B[1;33m         \u001B[0mprint\u001B[0m\u001B[1;33m(\u001B[0m\u001B[0mnext\u001B[0m\u001B[1;33m(\u001B[0m\u001B[0mit\u001B[0m\u001B[1;33m)\u001B[0m\u001B[1;33m)\u001B[0m\u001B[1;33m\u001B[0m\u001B[1;33m\u001B[0m\u001B[0m\n\u001B[0m\u001B[0;32m      9\u001B[0m     \u001B[1;32mexcept\u001B[0m \u001B[0mStopIteration\u001B[0m\u001B[1;33m:\u001B[0m\u001B[1;33m\u001B[0m\u001B[1;33m\u001B[0m\u001B[0m\n",
      "\u001B[1;31mStopIteration\u001B[0m: ",
      "\nDuring handling of the above exception, another exception occurred:\n",
      "\u001B[1;31mSystemExit\u001B[0m                                Traceback (most recent call last)",
      "    \u001B[1;31m[... skipping hidden 1 frame]\u001B[0m\n",
      "\u001B[1;32m<ipython-input-30-08acf072f749>\u001B[0m in \u001B[0;36m<module>\u001B[1;34m\u001B[0m\n\u001B[0;32m      9\u001B[0m     \u001B[1;32mexcept\u001B[0m \u001B[0mStopIteration\u001B[0m\u001B[1;33m:\u001B[0m\u001B[1;33m\u001B[0m\u001B[1;33m\u001B[0m\u001B[0m\n\u001B[1;32m---> 10\u001B[1;33m         \u001B[0msys\u001B[0m\u001B[1;33m.\u001B[0m\u001B[0mexit\u001B[0m\u001B[1;33m(\u001B[0m\u001B[1;33m)\u001B[0m\u001B[1;33m\u001B[0m\u001B[1;33m\u001B[0m\u001B[0m\n\u001B[0m",
      "\u001B[1;31mSystemExit\u001B[0m: ",
      "\nDuring handling of the above exception, another exception occurred:\n",
      "\u001B[1;31mTypeError\u001B[0m                                 Traceback (most recent call last)",
      "    \u001B[1;31m[... skipping hidden 1 frame]\u001B[0m\n",
      "\u001B[1;32mF:\\anaconda\\envs\\imgProcessing\\lib\\site-packages\\IPython\\core\\interactiveshell.py\u001B[0m in \u001B[0;36mshowtraceback\u001B[1;34m(self, exc_tuple, filename, tb_offset, exception_only, running_compiled_code)\u001B[0m\n\u001B[0;32m   2036\u001B[0m                            'the full traceback.\\n']\n\u001B[0;32m   2037\u001B[0m                     stb.extend(self.InteractiveTB.get_exception_only(etype,\n\u001B[1;32m-> 2038\u001B[1;33m                                                                      value))\n\u001B[0m\u001B[0;32m   2039\u001B[0m                 \u001B[1;32melse\u001B[0m\u001B[1;33m:\u001B[0m\u001B[1;33m\u001B[0m\u001B[1;33m\u001B[0m\u001B[0m\n\u001B[0;32m   2040\u001B[0m                     \u001B[1;32mtry\u001B[0m\u001B[1;33m:\u001B[0m\u001B[1;33m\u001B[0m\u001B[1;33m\u001B[0m\u001B[0m\n",
      "\u001B[1;32mF:\\anaconda\\envs\\imgProcessing\\lib\\site-packages\\IPython\\core\\ultratb.py\u001B[0m in \u001B[0;36mget_exception_only\u001B[1;34m(self, etype, value)\u001B[0m\n\u001B[0;32m    821\u001B[0m         \u001B[0mvalue\u001B[0m \u001B[1;33m:\u001B[0m \u001B[0mexception\u001B[0m \u001B[0mvalue\u001B[0m\u001B[1;33m\u001B[0m\u001B[1;33m\u001B[0m\u001B[0m\n\u001B[0;32m    822\u001B[0m         \"\"\"\n\u001B[1;32m--> 823\u001B[1;33m         \u001B[1;32mreturn\u001B[0m \u001B[0mListTB\u001B[0m\u001B[1;33m.\u001B[0m\u001B[0mstructured_traceback\u001B[0m\u001B[1;33m(\u001B[0m\u001B[0mself\u001B[0m\u001B[1;33m,\u001B[0m \u001B[0metype\u001B[0m\u001B[1;33m,\u001B[0m \u001B[0mvalue\u001B[0m\u001B[1;33m)\u001B[0m\u001B[1;33m\u001B[0m\u001B[1;33m\u001B[0m\u001B[0m\n\u001B[0m\u001B[0;32m    824\u001B[0m \u001B[1;33m\u001B[0m\u001B[0m\n\u001B[0;32m    825\u001B[0m     \u001B[1;32mdef\u001B[0m \u001B[0mshow_exception_only\u001B[0m\u001B[1;33m(\u001B[0m\u001B[0mself\u001B[0m\u001B[1;33m,\u001B[0m \u001B[0metype\u001B[0m\u001B[1;33m,\u001B[0m \u001B[0mevalue\u001B[0m\u001B[1;33m)\u001B[0m\u001B[1;33m:\u001B[0m\u001B[1;33m\u001B[0m\u001B[1;33m\u001B[0m\u001B[0m\n",
      "\u001B[1;32mF:\\anaconda\\envs\\imgProcessing\\lib\\site-packages\\IPython\\core\\ultratb.py\u001B[0m in \u001B[0;36mstructured_traceback\u001B[1;34m(self, etype, evalue, etb, tb_offset, context)\u001B[0m\n\u001B[0;32m    700\u001B[0m                     chained_exceptions_tb_offset, context)\n\u001B[0;32m    701\u001B[0m                 \u001B[1;33m+\u001B[0m \u001B[0mchained_exception_message\u001B[0m\u001B[1;33m\u001B[0m\u001B[1;33m\u001B[0m\u001B[0m\n\u001B[1;32m--> 702\u001B[1;33m                 + out_list)\n\u001B[0m\u001B[0;32m    703\u001B[0m \u001B[1;33m\u001B[0m\u001B[0m\n\u001B[0;32m    704\u001B[0m         \u001B[1;32mreturn\u001B[0m \u001B[0mout_list\u001B[0m\u001B[1;33m\u001B[0m\u001B[1;33m\u001B[0m\u001B[0m\n",
      "\u001B[1;32mF:\\anaconda\\envs\\imgProcessing\\lib\\site-packages\\IPython\\core\\ultratb.py\u001B[0m in \u001B[0;36mstructured_traceback\u001B[1;34m(self, etype, value, tb, tb_offset, number_of_lines_of_context)\u001B[0m\n\u001B[0;32m   1434\u001B[0m             \u001B[0mself\u001B[0m\u001B[1;33m.\u001B[0m\u001B[0mtb\u001B[0m \u001B[1;33m=\u001B[0m \u001B[0mtb\u001B[0m\u001B[1;33m\u001B[0m\u001B[1;33m\u001B[0m\u001B[0m\n\u001B[0;32m   1435\u001B[0m         return FormattedTB.structured_traceback(\n\u001B[1;32m-> 1436\u001B[1;33m             self, etype, value, tb, tb_offset, number_of_lines_of_context)\n\u001B[0m\u001B[0;32m   1437\u001B[0m \u001B[1;33m\u001B[0m\u001B[0m\n\u001B[0;32m   1438\u001B[0m \u001B[1;33m\u001B[0m\u001B[0m\n",
      "\u001B[1;32mF:\\anaconda\\envs\\imgProcessing\\lib\\site-packages\\IPython\\core\\ultratb.py\u001B[0m in \u001B[0;36mstructured_traceback\u001B[1;34m(self, etype, value, tb, tb_offset, number_of_lines_of_context)\u001B[0m\n\u001B[0;32m   1334\u001B[0m             \u001B[1;31m# Verbose modes need a full traceback\u001B[0m\u001B[1;33m\u001B[0m\u001B[1;33m\u001B[0m\u001B[1;33m\u001B[0m\u001B[0m\n\u001B[0;32m   1335\u001B[0m             return VerboseTB.structured_traceback(\n\u001B[1;32m-> 1336\u001B[1;33m                 \u001B[0mself\u001B[0m\u001B[1;33m,\u001B[0m \u001B[0metype\u001B[0m\u001B[1;33m,\u001B[0m \u001B[0mvalue\u001B[0m\u001B[1;33m,\u001B[0m \u001B[0mtb\u001B[0m\u001B[1;33m,\u001B[0m \u001B[0mtb_offset\u001B[0m\u001B[1;33m,\u001B[0m \u001B[0mnumber_of_lines_of_context\u001B[0m\u001B[1;33m\u001B[0m\u001B[1;33m\u001B[0m\u001B[0m\n\u001B[0m\u001B[0;32m   1337\u001B[0m             )\n\u001B[0;32m   1338\u001B[0m         \u001B[1;32melif\u001B[0m \u001B[0mmode\u001B[0m \u001B[1;33m==\u001B[0m \u001B[1;34m'Minimal'\u001B[0m\u001B[1;33m:\u001B[0m\u001B[1;33m\u001B[0m\u001B[1;33m\u001B[0m\u001B[0m\n",
      "\u001B[1;32mF:\\anaconda\\envs\\imgProcessing\\lib\\site-packages\\IPython\\core\\ultratb.py\u001B[0m in \u001B[0;36mstructured_traceback\u001B[1;34m(self, etype, evalue, etb, tb_offset, number_of_lines_of_context)\u001B[0m\n\u001B[0;32m   1191\u001B[0m \u001B[1;33m\u001B[0m\u001B[0m\n\u001B[0;32m   1192\u001B[0m         formatted_exception = self.format_exception_as_a_whole(etype, evalue, etb, number_of_lines_of_context,\n\u001B[1;32m-> 1193\u001B[1;33m                                                                tb_offset)\n\u001B[0m\u001B[0;32m   1194\u001B[0m \u001B[1;33m\u001B[0m\u001B[0m\n\u001B[0;32m   1195\u001B[0m         \u001B[0mcolors\u001B[0m \u001B[1;33m=\u001B[0m \u001B[0mself\u001B[0m\u001B[1;33m.\u001B[0m\u001B[0mColors\u001B[0m  \u001B[1;31m# just a shorthand + quicker name lookup\u001B[0m\u001B[1;33m\u001B[0m\u001B[1;33m\u001B[0m\u001B[0m\n",
      "\u001B[1;32mF:\\anaconda\\envs\\imgProcessing\\lib\\site-packages\\IPython\\core\\ultratb.py\u001B[0m in \u001B[0;36mformat_exception_as_a_whole\u001B[1;34m(self, etype, evalue, etb, number_of_lines_of_context, tb_offset)\u001B[0m\n\u001B[0;32m   1148\u001B[0m \u001B[1;33m\u001B[0m\u001B[0m\n\u001B[0;32m   1149\u001B[0m \u001B[1;33m\u001B[0m\u001B[0m\n\u001B[1;32m-> 1150\u001B[1;33m         \u001B[0mlast_unique\u001B[0m\u001B[1;33m,\u001B[0m \u001B[0mrecursion_repeat\u001B[0m \u001B[1;33m=\u001B[0m \u001B[0mfind_recursion\u001B[0m\u001B[1;33m(\u001B[0m\u001B[0morig_etype\u001B[0m\u001B[1;33m,\u001B[0m \u001B[0mevalue\u001B[0m\u001B[1;33m,\u001B[0m \u001B[0mrecords\u001B[0m\u001B[1;33m)\u001B[0m\u001B[1;33m\u001B[0m\u001B[1;33m\u001B[0m\u001B[0m\n\u001B[0m\u001B[0;32m   1151\u001B[0m \u001B[1;33m\u001B[0m\u001B[0m\n\u001B[0;32m   1152\u001B[0m         \u001B[0mframes\u001B[0m \u001B[1;33m=\u001B[0m \u001B[0mself\u001B[0m\u001B[1;33m.\u001B[0m\u001B[0mformat_records\u001B[0m\u001B[1;33m(\u001B[0m\u001B[0mrecords\u001B[0m\u001B[1;33m,\u001B[0m \u001B[0mlast_unique\u001B[0m\u001B[1;33m,\u001B[0m \u001B[0mrecursion_repeat\u001B[0m\u001B[1;33m)\u001B[0m\u001B[1;33m\u001B[0m\u001B[1;33m\u001B[0m\u001B[0m\n",
      "\u001B[1;32mF:\\anaconda\\envs\\imgProcessing\\lib\\site-packages\\IPython\\core\\ultratb.py\u001B[0m in \u001B[0;36mfind_recursion\u001B[1;34m(etype, value, records)\u001B[0m\n\u001B[0;32m    449\u001B[0m     \u001B[1;31m# first frame (from in to out) that looks different.\u001B[0m\u001B[1;33m\u001B[0m\u001B[1;33m\u001B[0m\u001B[1;33m\u001B[0m\u001B[0m\n\u001B[0;32m    450\u001B[0m     \u001B[1;32mif\u001B[0m \u001B[1;32mnot\u001B[0m \u001B[0mis_recursion_error\u001B[0m\u001B[1;33m(\u001B[0m\u001B[0metype\u001B[0m\u001B[1;33m,\u001B[0m \u001B[0mvalue\u001B[0m\u001B[1;33m,\u001B[0m \u001B[0mrecords\u001B[0m\u001B[1;33m)\u001B[0m\u001B[1;33m:\u001B[0m\u001B[1;33m\u001B[0m\u001B[1;33m\u001B[0m\u001B[0m\n\u001B[1;32m--> 451\u001B[1;33m         \u001B[1;32mreturn\u001B[0m \u001B[0mlen\u001B[0m\u001B[1;33m(\u001B[0m\u001B[0mrecords\u001B[0m\u001B[1;33m)\u001B[0m\u001B[1;33m,\u001B[0m \u001B[1;36m0\u001B[0m\u001B[1;33m\u001B[0m\u001B[1;33m\u001B[0m\u001B[0m\n\u001B[0m\u001B[0;32m    452\u001B[0m \u001B[1;33m\u001B[0m\u001B[0m\n\u001B[0;32m    453\u001B[0m     \u001B[1;31m# Select filename, lineno, func_name to track frames with\u001B[0m\u001B[1;33m\u001B[0m\u001B[1;33m\u001B[0m\u001B[1;33m\u001B[0m\u001B[0m\n",
      "\u001B[1;31mTypeError\u001B[0m: object of type 'NoneType' has no len()"
     ]
    }
   ],
   "source": [
    "import sys\n",
    "\n",
    "list = [1,2,3,4]\n",
    "it = iter(list)\n",
    "\n",
    "while True:\n",
    "    try:\n",
    "        print(next(it))\n",
    "    except StopIteration:\n",
    "        sys.exit()"
   ],
   "metadata": {
    "collapsed": false,
    "pycharm": {
     "name": "#%%\n"
    }
   }
  },
  {
   "cell_type": "code",
   "execution_count": 35,
   "outputs": [
    {
     "name": "stdout",
     "output_type": "stream",
     "text": [
      "1\n",
      "2\n",
      "3\n",
      "4\n",
      "5\n"
     ]
    }
   ],
   "source": [
    "class MyNumbers:\n",
    "    def __iter__(self):\n",
    "        self.a = 1\n",
    "        return self\n",
    "\n",
    "    def __next__(self):\n",
    "        x = self.a\n",
    "        self.a += 1\n",
    "        return x\n",
    "\n",
    "myclass = MyNumbers()\n",
    "myiter = iter(myclass)\n",
    "\n",
    "print(next(myiter))\n",
    "print(next(myiter))\n",
    "print(next(myiter))\n",
    "print(next(myiter))\n",
    "print(next(myiter))"
   ],
   "metadata": {
    "collapsed": false,
    "pycharm": {
     "name": "#%%\n"
    }
   }
  },
  {
   "cell_type": "code",
   "execution_count": 38,
   "outputs": [
    {
     "name": "stdout",
     "output_type": "stream",
     "text": [
      "2\n",
      "(3, 4, 5, 6, 5, 5, 7)\n"
     ]
    }
   ],
   "source": [
    "def printinfo(arg1, *vartuple):\n",
    "    print(arg1)\n",
    "    print(vartuple)\n",
    "printinfo(2,3,4,5,6,5,5,7)"
   ],
   "metadata": {
    "collapsed": false,
    "pycharm": {
     "name": "#%%\n"
    }
   }
  },
  {
   "cell_type": "code",
   "execution_count": 2,
   "outputs": [
    {
     "name": "stdout",
     "output_type": "stream",
     "text": [
      "30\n"
     ]
    }
   ],
   "source": [
    "sum = lambda arg1, arg2: arg1 + arg2\n",
    "print(sum(10,20))"
   ],
   "metadata": {
    "collapsed": false,
    "pycharm": {
     "name": "#%%\n"
    }
   }
  },
  {
   "cell_type": "code",
   "execution_count": 14,
   "outputs": [
    {
     "name": "stdout",
     "output_type": "stream",
     "text": [
      "2 0\n",
      "[66.25, 333, -1, 333, 1, 1234.5, 333]\n",
      "[66.25, -1, 333, 1, 1234.5, 333]\n",
      "[333, 1234.5, 1, 333, -1, 66.25]\n",
      "[-1, 1, 66.25, 333, 333, 1234.5]\n"
     ]
    }
   ],
   "source": [
    "a = [66.25, 333, 333, 1, 1234.5]\n",
    "print(a.count(333), a.count(88))\n",
    "a.insert(2, -1)\n",
    "a.append(333)\n",
    "print(a)\n",
    "a.remove(333)\n",
    "print(a)\n",
    "a.reverse()\n",
    "print(a)\n",
    "a.sort()\n",
    "print(a)"
   ],
   "metadata": {
    "collapsed": false,
    "pycharm": {
     "name": "#%%\n"
    }
   }
  },
  {
   "cell_type": "code",
   "execution_count": 19,
   "outputs": [
    {
     "name": "stdout",
     "output_type": "stream",
     "text": [
      "[3, 4, 5, 6, 7]\n",
      "[3, 4, 5, 6]\n",
      "[3, 4, 5]\n"
     ]
    }
   ],
   "source": [
    "stack = [3,4,5]\n",
    "stack.append(6)\n",
    "stack.append(7)\n",
    "print(stack)\n",
    "stack.pop()\n",
    "print(stack)\n",
    "stack.pop()\n",
    "print(stack)"
   ],
   "metadata": {
    "collapsed": false,
    "pycharm": {
     "name": "#%%\n"
    }
   }
  },
  {
   "cell_type": "code",
   "execution_count": 24,
   "outputs": [
    {
     "name": "stdout",
     "output_type": "stream",
     "text": [
      "Eric\n",
      "deque(['John', 'Michael', 'Terry', 'Graham'])\n",
      "John\n",
      "deque(['Michael', 'Terry', 'Graham'])\n"
     ]
    }
   ],
   "source": [
    "from collections import deque\n",
    "queue = deque([\"Eric\", \"John\", \"Michael\"])\n",
    "queue.append(\"Terry\")\n",
    "queue.append(\"Graham\")\n",
    "print(queue.popleft())\n",
    "print(queue)\n",
    "print(queue.popleft())\n",
    "print(queue)"
   ],
   "metadata": {
    "collapsed": false,
    "pycharm": {
     "name": "#%%\n"
    }
   }
  },
  {
   "cell_type": "code",
   "execution_count": 26,
   "outputs": [
    {
     "data": {
      "text/plain": "[6, 12, 18]"
     },
     "execution_count": 26,
     "metadata": {},
     "output_type": "execute_result"
    }
   ],
   "source": [
    "vec = [2,4,6]\n",
    "[3*x for x in vec]"
   ],
   "metadata": {
    "collapsed": false,
    "pycharm": {
     "name": "#%%\n"
    }
   }
  },
  {
   "cell_type": "code",
   "execution_count": 27,
   "outputs": [
    {
     "data": {
      "text/plain": "[[2, 4], [4, 16], [6, 36]]"
     },
     "execution_count": 27,
     "metadata": {},
     "output_type": "execute_result"
    }
   ],
   "source": [
    "[[x, x**2] for x in vec]"
   ],
   "metadata": {
    "collapsed": false,
    "pycharm": {
     "name": "#%%\n"
    }
   }
  },
  {
   "cell_type": "code",
   "execution_count": 28,
   "outputs": [
    {
     "data": {
      "text/plain": "['banana', 'loganberry', 'passion fruit']"
     },
     "execution_count": 28,
     "metadata": {},
     "output_type": "execute_result"
    }
   ],
   "source": [
    "freshfruit = ['banana', 'loganberry', 'passion fruit']\n",
    "[weapon.strip() for weapon in freshfruit]"
   ],
   "metadata": {
    "collapsed": false,
    "pycharm": {
     "name": "#%%\n"
    }
   }
  },
  {
   "cell_type": "code",
   "execution_count": 31,
   "outputs": [
    {
     "ename": "IndentationError",
     "evalue": "unexpected indent (<ipython-input-31-dd682838c7f2>, line 7)",
     "output_type": "error",
     "traceback": [
      "\u001B[1;36m  File \u001B[1;32m\"<ipython-input-31-dd682838c7f2>\"\u001B[1;36m, line \u001B[1;32m7\u001B[0m\n\u001B[1;33m    [[row[i] for row in matrix] for i in range(4)]\u001B[0m\n\u001B[1;37m    ^\u001B[0m\n\u001B[1;31mIndentationError\u001B[0m\u001B[1;31m:\u001B[0m unexpected indent\n"
     ]
    }
   ],
   "source": [
    "martix = [\n",
    "    [1,2,3,4],\n",
    "    [5,6,7,8],\n",
    "    [9,10,11,12],\n",
    "]\n"
   ],
   "metadata": {
    "collapsed": false,
    "pycharm": {
     "name": "#%%\n"
    }
   }
  },
  {
   "cell_type": "code",
   "execution_count": 33,
   "outputs": [
    {
     "data": {
      "text/plain": "{2: 4, 4: 16, 6: 36, 8: 64, 10: 100}"
     },
     "execution_count": 33,
     "metadata": {},
     "output_type": "execute_result"
    }
   ],
   "source": [
    "{x: x**2 for x in (2,4,6,8,10)}"
   ],
   "metadata": {
    "collapsed": false,
    "pycharm": {
     "name": "#%%\n"
    }
   }
  },
  {
   "cell_type": "code",
   "execution_count": 36,
   "outputs": [
    {
     "name": "stdout",
     "output_type": "stream",
     "text": [
      "命令行参数如下:\n",
      "F:\\anaconda\\envs\\imgProcessing\\lib\\site-packages\\ipykernel_launcher.py\n",
      "-f\n",
      "C:\\Users\\11966\\AppData\\Roaming\\jupyter\\runtime\\kernel-5adddd00-8def-43d3-8742-964bc0b53760.json\n",
      "\n",
      "\n",
      "Python 路径为： ['D:\\\\code\\\\study\\\\Python\\\\Runoob_Python', 'D:\\\\code\\\\study', 'D:\\\\code\\\\study\\\\ML\\\\DL\\\\DL_Book1\\\\【源代码】深度学习入门：基于Python的理论与实现\\\\【源代码】深度学习入门：基于Python的理论与实现\\\\dataset', 'D:\\\\code\\\\study\\\\ML\\\\DL\\\\minist', 'F:\\\\anaconda\\\\envs\\\\imgProcessing\\\\python37.zip', 'F:\\\\anaconda\\\\envs\\\\imgProcessing\\\\DLLs', 'F:\\\\anaconda\\\\envs\\\\imgProcessing\\\\lib', 'F:\\\\anaconda\\\\envs\\\\imgProcessing', '', 'C:\\\\Users\\\\11966\\\\AppData\\\\Roaming\\\\Python\\\\Python37\\\\site-packages', 'F:\\\\anaconda\\\\envs\\\\imgProcessing\\\\lib\\\\site-packages', 'F:\\\\anaconda\\\\envs\\\\imgProcessing\\\\lib\\\\site-packages\\\\win32', 'F:\\\\anaconda\\\\envs\\\\imgProcessing\\\\lib\\\\site-packages\\\\win32\\\\lib', 'F:\\\\anaconda\\\\envs\\\\imgProcessing\\\\lib\\\\site-packages\\\\Pythonwin', 'F:\\\\anaconda\\\\envs\\\\imgProcessing\\\\lib\\\\site-packages\\\\IPython\\\\extensions', 'C:\\\\Users\\\\11966\\\\.ipython'] \n",
      "\n"
     ]
    }
   ],
   "source": [
    "import sys\n",
    "\n",
    "print('命令行参数如下:')\n",
    "for i in sys.argv:\n",
    "   print(i)\n",
    "\n",
    "print('\\n\\nPython 路径为：', sys.path, '\\n')"
   ],
   "metadata": {
    "collapsed": false,
    "pycharm": {
     "name": "#%%\n"
    }
   }
  },
  {
   "cell_type": "code",
   "execution_count": 37,
   "outputs": [
    {
     "data": {
      "text/plain": "['D:\\\\code\\\\study\\\\Python\\\\Runoob_Python',\n 'D:\\\\code\\\\study',\n 'D:\\\\code\\\\study\\\\ML\\\\DL\\\\DL_Book1\\\\【源代码】深度学习入门：基于Python的理论与实现\\\\【源代码】深度学习入门：基于Python的理论与实现\\\\dataset',\n 'D:\\\\code\\\\study\\\\ML\\\\DL\\\\minist',\n 'F:\\\\anaconda\\\\envs\\\\imgProcessing\\\\python37.zip',\n 'F:\\\\anaconda\\\\envs\\\\imgProcessing\\\\DLLs',\n 'F:\\\\anaconda\\\\envs\\\\imgProcessing\\\\lib',\n 'F:\\\\anaconda\\\\envs\\\\imgProcessing',\n '',\n 'C:\\\\Users\\\\11966\\\\AppData\\\\Roaming\\\\Python\\\\Python37\\\\site-packages',\n 'F:\\\\anaconda\\\\envs\\\\imgProcessing\\\\lib\\\\site-packages',\n 'F:\\\\anaconda\\\\envs\\\\imgProcessing\\\\lib\\\\site-packages\\\\win32',\n 'F:\\\\anaconda\\\\envs\\\\imgProcessing\\\\lib\\\\site-packages\\\\win32\\\\lib',\n 'F:\\\\anaconda\\\\envs\\\\imgProcessing\\\\lib\\\\site-packages\\\\Pythonwin',\n 'F:\\\\anaconda\\\\envs\\\\imgProcessing\\\\lib\\\\site-packages\\\\IPython\\\\extensions',\n 'C:\\\\Users\\\\11966\\\\.ipython']"
     },
     "execution_count": 37,
     "metadata": {},
     "output_type": "execute_result"
    }
   ],
   "source": [
    "sys.path"
   ],
   "metadata": {
    "collapsed": false,
    "pycharm": {
     "name": "#%%\n"
    }
   }
  },
  {
   "cell_type": "code",
   "execution_count": 7,
   "outputs": [
    {
     "name": "stdout",
     "output_type": "stream",
     "text": [
      "In : \n",
      "...: \n",
      "Out: \n"
     ]
    }
   ],
   "source": [
    "import sys\n",
    "\n",
    "print(sys.ps1)\n",
    "print(sys.ps2)\n",
    "print(sys.ps3)"
   ],
   "metadata": {
    "collapsed": false,
    "pycharm": {
     "name": "#%%\n"
    }
   }
  },
  {
   "cell_type": "code",
   "execution_count": 12,
   "outputs": [
    {
     "name": "stdout",
     "output_type": "stream",
     "text": [
      "Hello, Runoob\n",
      "Hello, Runoob\n"
     ]
    }
   ],
   "source": [
    "s = 'Hello, Runoob'\n",
    "s = str(s)\n",
    "print(s)\n",
    "repr(s)\n",
    "print(s)\n"
   ],
   "metadata": {
    "collapsed": false,
    "pycharm": {
     "name": "#%%\n"
    }
   }
  },
  {
   "cell_type": "code",
   "execution_count": 23,
   "outputs": [],
   "source": [
    "f = open(\"D:\\code\\study\\image\\hello.txt\",'w')\n",
    "f.write(\"This is a test!\\n\")\n",
    "f.write(\"I am lijitao\")\n",
    "f.close()"
   ],
   "metadata": {
    "collapsed": false,
    "pycharm": {
     "name": "#%%\n"
    }
   }
  },
  {
   "cell_type": "code",
   "execution_count": 45,
   "outputs": [
    {
     "name": "stdout",
     "output_type": "stream",
     "text": [
      "['asdf']\n"
     ]
    }
   ],
   "source": [
    "f = open(\"D:\\code\\study\\image\\hello.txt\")\n",
    "\n",
    "# str = f.readline()\n",
    "# str = str + f.readline()\n",
    "str = f.readlines()\n",
    "print(str)\n",
    "f.close()"
   ],
   "metadata": {
    "collapsed": false,
    "pycharm": {
     "name": "#%%\n"
    }
   }
  },
  {
   "cell_type": "code",
   "execution_count": 47,
   "outputs": [
    {
     "name": "stdout",
     "output_type": "stream",
     "text": [
      "this is a test "
     ]
    }
   ],
   "source": [
    "f = open(\"D:\\code\\study\\image\\hello.txt\")\n",
    "for line in f:\n",
    "    print(line, end=\" \")\n",
    "f.close()"
   ],
   "metadata": {
    "collapsed": false,
    "pycharm": {
     "name": "#%%\n"
    }
   }
  },
  {
   "cell_type": "code",
   "execution_count": 53,
   "outputs": [
    {
     "name": "stdout",
     "output_type": "stream",
     "text": [
      "['asdfasdfndfgasdfasdf']\n",
      "20\n"
     ]
    }
   ],
   "source": [
    "f = open(\"D:\\code\\study\\image\\hello.txt\", \"w\")\n",
    "f.write(input())\n",
    "\n",
    "f = open(\"D:\\code\\study\\image\\hello.txt\")\n",
    "str = f.readlines()\n",
    "print(str)\n",
    "print(f.tell())\n",
    "f.close()"
   ],
   "metadata": {
    "collapsed": false,
    "pycharm": {
     "name": "#%%\n"
    }
   }
  },
  {
   "cell_type": "code",
   "execution_count": 56,
   "outputs": [
    {
     "name": "stdout",
     "output_type": "stream",
     "text": [
      "您输入的不是数字，请再次输入！\n",
      "您输入的不是数字，请再次输入！\n",
      "您输入的不是数字，请再次输入！\n",
      "您输入的不是数字，请再次输入！\n",
      "您输入的不是数字，请再次输入！\n",
      "55\n"
     ]
    }
   ],
   "source": [
    "while True:\n",
    "    try:\n",
    "        x = int(input(\"请输入一个数字：\"))\n",
    "        print(x)\n",
    "        break\n",
    "    except ValueError:\n",
    "        print(\"您输入的不是数字，请再次输入！\")\n",
    "        #continue"
   ],
   "metadata": {
    "collapsed": false,
    "pycharm": {
     "name": "#%%\n"
    }
   }
  },
  {
   "cell_type": "code",
   "execution_count": 57,
   "outputs": [
    {
     "name": "stdout",
     "output_type": "stream",
     "text": [
      "OS error: [Errno 2] No such file or directory: 'myfile.txt'\n"
     ]
    }
   ],
   "source": [
    "import sys\n",
    "\n",
    "try:\n",
    "    f = open('myfile.txt')\n",
    "    s = f.readline()\n",
    "    i = int(s.strip())\n",
    "except OSError as err:\n",
    "    print(\"OS error: {0}\".format(err))\n",
    "except ValueError:\n",
    "    print(\"Could not convert data to an integer.\")\n",
    "except:\n",
    "    print(\"Unexpected error:\", sys.exc_info()[0])\n",
    "    raise"
   ],
   "metadata": {
    "collapsed": false,
    "pycharm": {
     "name": "#%%\n"
    }
   }
  },
  {
   "cell_type": "code",
   "execution_count": 59,
   "outputs": [
    {
     "name": "stdout",
     "output_type": "stream",
     "text": [
      "12345\n",
      "Hello World\n"
     ]
    }
   ],
   "source": [
    "class MyClass:\n",
    "    i = 12345\n",
    "    def f(self):\n",
    "        return 'Hello World'\n",
    "x = MyClass()\n",
    "\n",
    "print(x.i)\n",
    "print(x.f())"
   ],
   "metadata": {
    "collapsed": false,
    "pycharm": {
     "name": "#%%\n"
    }
   }
  },
  {
   "cell_type": "code",
   "execution_count": 62,
   "outputs": [
    {
     "name": "stdout",
     "output_type": "stream",
     "text": [
      "3.0 4.0\n"
     ]
    }
   ],
   "source": [
    "class Complex:\n",
    "    def __init__(self, realpart, imagpart):\n",
    "        self.r = realpart\n",
    "        self.i = imagpart\n",
    "\n",
    "x = Complex(3.0, 4.0)\n",
    "print(x.r, x.i)"
   ],
   "metadata": {
    "collapsed": false,
    "pycharm": {
     "name": "#%%\n"
    }
   }
  },
  {
   "cell_type": "code",
   "execution_count": 64,
   "outputs": [
    {
     "name": "stdout",
     "output_type": "stream",
     "text": [
      "<__main__.Test object at 0x00000205A924D2C8>\n",
      "<class '__main__.Test'>\n"
     ]
    }
   ],
   "source": [
    "class Test:\n",
    "    def prt(dd):\n",
    "        print(dd)\n",
    "        print(dd.__class__)\n",
    "\n",
    "t = Test()\n",
    "t.prt()"
   ],
   "metadata": {
    "collapsed": false,
    "pycharm": {
     "name": "#%%\n"
    }
   }
  },
  {
   "cell_type": "code",
   "execution_count": 68,
   "outputs": [
    {
     "name": "stdout",
     "output_type": "stream",
     "text": [
      "lijitao说：我22岁。\n"
     ]
    }
   ],
   "source": [
    "class people:\n",
    "    name = ''\n",
    "    age = 0\n",
    "    # 私有属性\n",
    "    __weight = 0\n",
    "    def __init__(self, n, a, w):\n",
    "        self.name = n\n",
    "        self.age = a\n",
    "        self.__weight = w\n",
    "\n",
    "    def speak(self):\n",
    "        print(\"%s说：我%d岁。\"%(self.name, self.age))\n",
    "\n",
    "p = people('lijitao', 22, 120)\n",
    "p.speak()"
   ],
   "metadata": {
    "collapsed": false,
    "pycharm": {
     "name": "#%%\n"
    }
   }
  },
  {
   "cell_type": "code",
   "execution_count": null,
   "outputs": [],
   "source": [],
   "metadata": {
    "collapsed": false,
    "pycharm": {
     "name": "#%%\n"
    }
   }
  }
 ],
 "metadata": {
  "kernelspec": {
   "name": "imgprocessing",
   "language": "python",
   "display_name": "imgProcessing"
  },
  "language_info": {
   "codemirror_mode": {
    "name": "ipython",
    "version": 2
   },
   "file_extension": ".py",
   "mimetype": "text/x-python",
   "name": "python",
   "nbconvert_exporter": "python",
   "pygments_lexer": "ipython2",
   "version": "2.7.6"
  }
 },
 "nbformat": 4,
 "nbformat_minor": 0
}